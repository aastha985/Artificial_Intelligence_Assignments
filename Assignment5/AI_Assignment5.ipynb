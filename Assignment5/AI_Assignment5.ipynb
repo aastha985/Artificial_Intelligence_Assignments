{
  "nbformat": 4,
  "nbformat_minor": 0,
  "metadata": {
    "colab": {
      "provenance": []
    },
    "kernelspec": {
      "name": "python3",
      "display_name": "Python 3"
    },
    "language_info": {
      "name": "python"
    }
  },
  "cells": [
    {
      "cell_type": "code",
      "source": [
        "!apt install swi-prolog\n",
        "!pip install pyswip"
      ],
      "metadata": {
        "colab": {
          "base_uri": "https://localhost:8080/"
        },
        "id": "eQCceqfIRnZ2",
        "outputId": "d93875db-55a4-418d-ac5b-866384bb7ffc"
      },
      "execution_count": 1,
      "outputs": [
        {
          "output_type": "stream",
          "name": "stdout",
          "text": [
            "Reading package lists... Done\n",
            "Building dependency tree       \n",
            "Reading state information... Done\n",
            "swi-prolog is already the newest version (7.6.4+dfsg-1build1).\n",
            "The following package was automatically installed and is no longer required:\n",
            "  libnvidia-common-460\n",
            "Use 'apt autoremove' to remove it.\n",
            "0 upgraded, 0 newly installed, 0 to remove and 7 not upgraded.\n",
            "Looking in indexes: https://pypi.org/simple, https://us-python.pkg.dev/colab-wheels/public/simple/\n",
            "Requirement already satisfied: pyswip in /usr/local/lib/python3.8/dist-packages (0.2.10)\n"
          ]
        }
      ]
    },
    {
      "cell_type": "code",
      "source": [
        "import nltk\n",
        "nltk.download('punkt')\n",
        "\n",
        "from pyswip import Prolog\n",
        "from nltk.tokenize import word_tokenize, sent_tokenize"
      ],
      "metadata": {
        "colab": {
          "base_uri": "https://localhost:8080/"
        },
        "id": "3Uoz7us6mGVO",
        "outputId": "0f6d3f2e-1c13-4609-ef83-c2853fe161df"
      },
      "execution_count": 2,
      "outputs": [
        {
          "output_type": "stream",
          "name": "stderr",
          "text": [
            "[nltk_data] Downloading package punkt to /root/nltk_data...\n",
            "[nltk_data]   Package punkt is already up-to-date!\n"
          ]
        }
      ]
    },
    {
      "cell_type": "code",
      "execution_count": 3,
      "metadata": {
        "id": "0oVfOTam7yzw"
      },
      "outputs": [],
      "source": [
        "swipl = Prolog()\n",
        "swipl.consult(\"code.pl\")"
      ]
    },
    {
      "cell_type": "code",
      "source": [
        "def get_semester(sentence):\n",
        "  Semester = \"monsoon\"\n",
        "  for word in word_tokenize(sentence):\n",
        "    if word=='monsoon':\n",
        "      break\n",
        "    elif word=='winter':\n",
        "      Semester='winter'\n",
        "      break\n",
        "  return Semester"
      ],
      "metadata": {
        "id": "agpZWvlpuvY_"
      },
      "execution_count": 4,
      "outputs": []
    },
    {
      "cell_type": "code",
      "source": [
        "def get_branch(sentence):\n",
        "  options = [\"cse\",\"csai\",\"design\",\"maths\",\"ssh\"]\n",
        "  branch = \"cse\"\n",
        "\n",
        "  for word in word_tokenize(sentence):\n",
        "    for option in options:\n",
        "      if word==option:\n",
        "        branch = option\n",
        "\n",
        "  return branch"
      ],
      "metadata": {
        "id": "Hd7VbXyH13H8"
      },
      "execution_count": 5,
      "outputs": []
    },
    {
      "cell_type": "code",
      "source": [
        "def get_courses_list(sentence):\n",
        "  courses_list = ['ip','os','ada','m3','cn','dsa','ap','dbms','m1','m2','ml','dis','hcd','ra']\n",
        "  courses = []\n",
        "\n",
        "  for word in word_tokenize(sentence):\n",
        "    for course in courses_list:\n",
        "      if word==course:\n",
        "        courses.append(course)\n",
        "\n",
        "  return courses"
      ],
      "metadata": {
        "id": "JYGm85UL3R_Q"
      },
      "execution_count": 6,
      "outputs": []
    },
    {
      "cell_type": "code",
      "source": [
        "def isfloat(word):\n",
        "  try:\n",
        "    float(word)\n",
        "    return True\n",
        "  except ValueError:\n",
        "    return False"
      ],
      "metadata": {
        "id": "nZND1cOYiynM"
      },
      "execution_count": 7,
      "outputs": []
    },
    {
      "cell_type": "code",
      "source": [
        "def get_cgpa(sentence):\n",
        "  cgpa = 0\n",
        "  for word in word_tokenize(sentence):\n",
        "    if isfloat(word):\n",
        "      cgpa = float(word)\n",
        "  return cgpa"
      ],
      "metadata": {
        "id": "ygqyIdLQ3IeQ"
      },
      "execution_count": 8,
      "outputs": []
    },
    {
      "cell_type": "code",
      "source": [
        "def get_btp(sentence):\n",
        "  btp = 'true'\n",
        "  for word in word_tokenize(sentence):\n",
        "    if word==\"not\":\n",
        "      btp = 'false'\n",
        "  return btp"
      ],
      "metadata": {
        "id": "SJbaE6i_3fCk"
      },
      "execution_count": 9,
      "outputs": []
    },
    {
      "cell_type": "code",
      "source": [
        "def get_prediction():\n",
        "  input_text = input(\"Enter your input: \")\n",
        "  sentences = sent_tokenize(input_text)\n",
        "  semester = get_semester(sentences[0])\n",
        "  branch = get_branch(sentences[1])\n",
        "  courses = get_courses_list(sentences[2])\n",
        "  cgpa = get_cgpa(sentences[3])\n",
        "  btp = get_btp(sentences[4])\n",
        "\n",
        "  list(swipl.query('suggest_courses(%s,%s,%s,%s,%s)'%(branch,semester,courses,cgpa,btp)))\n",
        "  print('\\nsuggest_courses(%s,%s,%s,%s,%s)'%(branch,semester,courses,cgpa,btp))\n",
        "\n",
        "  print(\"\\n---------------------------------------Electives Advised------------------------------------------\")\n",
        "  print(\"\\nWe recommend the following electives for you-\\n\")\n",
        "  for course_name in swipl.query(\"course(X)\"):\n",
        "    print(course_name[\"X\"])"
      ],
      "metadata": {
        "id": "_Zru025HEbKG"
      },
      "execution_count": 10,
      "outputs": []
    },
    {
      "cell_type": "code",
      "source": [
        "get_prediction()"
      ],
      "metadata": {
        "colab": {
          "base_uri": "https://localhost:8080/"
        },
        "id": "4NinC2BEB5B9",
        "outputId": "55509efe-0ef0-4d68-b4e7-6954707d0976"
      },
      "execution_count": 11,
      "outputs": [
        {
          "output_type": "stream",
          "name": "stdout",
          "text": [
            "Enter your input: I am in winter semester. I belong to maths branch. I have completed m1 and m2. I have a CGPA of 9.04. I have not done a BTP in my field of interest.\n",
            "\n",
            "suggest_courses(maths,winter,['m1', 'm2'],9.04,false)\n",
            "\n",
            "---------------------------------------Electives Advised------------------------------------------\n",
            "\n",
            "We recommend the following electives for you-\n",
            "\n",
            "advanced_linear_algebra\n",
            "graph_theory\n",
            "introduction_to_mathematical_logic\n",
            "linear_optimization\n",
            "statistical_inference\n"
          ]
        }
      ]
    }
  ]
}