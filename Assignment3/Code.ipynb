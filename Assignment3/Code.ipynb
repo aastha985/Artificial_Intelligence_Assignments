{
  "nbformat": 4,
  "nbformat_minor": 0,
  "metadata": {
    "colab": {
      "provenance": [],
      "collapsed_sections": []
    },
    "kernelspec": {
      "name": "python3",
      "display_name": "Python 3"
    },
    "language_info": {
      "name": "python"
    }
  },
  "cells": [
    {
      "cell_type": "markdown",
      "source": [
        "# Installing and Importing Modules"
      ],
      "metadata": {
        "id": "mrJhHcQuHGgJ"
      }
    },
    {
      "cell_type": "code",
      "execution_count": 1,
      "metadata": {
        "colab": {
          "base_uri": "https://localhost:8080/"
        },
        "id": "0nyqSCgivZrM",
        "outputId": "2b045f98-4b8e-4fb3-bdab-651f89a079f7"
      },
      "outputs": [
        {
          "output_type": "stream",
          "name": "stdout",
          "text": [
            "Looking in indexes: https://pypi.org/simple, https://us-python.pkg.dev/colab-wheels/public/simple/\n",
            "Requirement already satisfied: durable-rules in /usr/local/lib/python3.7/dist-packages (2.0.28)\n"
          ]
        }
      ],
      "source": [
        "!pip install durable-rules"
      ]
    },
    {
      "cell_type": "code",
      "source": [
        "from durable.lang import *"
      ],
      "metadata": {
        "id": "KiOoz7fMxWYZ"
      },
      "execution_count": 2,
      "outputs": []
    },
    {
      "cell_type": "markdown",
      "source": [
        "# Taking Inputs"
      ],
      "metadata": {
        "id": "648IYAgAHJaS"
      }
    },
    {
      "cell_type": "code",
      "source": [
        "def input_cse():\n",
        "  cgpa = float(input(\"Please enter your cgpa: \"))\n",
        "  btp = input(\"Are you pursuing a btp in cse? (y/n) \")\n",
        "  published_papers = input(\"Have you published any papers in Computer Science and related fields? \")\n",
        "  ai = input(\"Do you have interest in Data Science? (y/n) \")\n",
        "  print(\"\\n--------------Career Options-----------------------\")\n",
        "\n",
        "  if cgpa>=8 and btp=='y':\n",
        "    assert_fact('field',{'code': 'cse','cgpa':cgpa,'btp':btp})\n",
        "  if cgpa>=9 and published_papers=='y':\n",
        "    assert_fact('field',{'code': 'cse','cgpa':cgpa, 'published_papers': 'y'})\n",
        "  if ai=='y':\n",
        "    assert_fact('field',{'code':'cse', 'area': 'ai'})\n",
        "  else:\n",
        "    assert_fact('field',{'code':'cse', 'area': 'noai'})"
      ],
      "metadata": {
        "id": "RrIieSX-9w7G"
      },
      "execution_count": 3,
      "outputs": []
    },
    {
      "cell_type": "code",
      "source": [
        "def input_math():\n",
        "  eco = input(\"Are you pursuing a minor in economics? (y/n) \")\n",
        "  print(\"\\n--------------Career Options-----------------------\")\n",
        "\n",
        "  if eco=='y':\n",
        "    assert_fact('field',{'code': 'maths', 'area': 'eco'})\n",
        "  else:\n",
        "    assert_fact('field',{'code': 'maths', 'area': 'noeco'})"
      ],
      "metadata": {
        "id": "h8wjt_jJ8lVW"
      },
      "execution_count": 4,
      "outputs": []
    },
    {
      "cell_type": "code",
      "source": [
        "def input_des_ssh(code):\n",
        "  extra = input(\"Are you pursuing any extracurricular activity? (sports/startup/none) \")\n",
        "  print(\"\\n--------------Career Options-----------------------\")\n",
        "  assert_fact('field',{'code': code,'extra': extra})"
      ],
      "metadata": {
        "id": "2dQM7Opq-GOp"
      },
      "execution_count": 5,
      "outputs": []
    },
    {
      "cell_type": "code",
      "source": [
        "def run():\n",
        "  code = input(\"Please enter the field you have done most courses in? (cse/maths/design/ssh) \")\n",
        "\n",
        "  if code=='cse':\n",
        "    input_cse()\n",
        "  elif code=='maths':\n",
        "    input_math()\n",
        "  else:\n",
        "    input_des_ssh(code)"
      ],
      "metadata": {
        "id": "7Z50vGnqDg_s"
      },
      "execution_count": 6,
      "outputs": []
    },
    {
      "cell_type": "markdown",
      "source": [
        "# Forward Chaining"
      ],
      "metadata": {
        "id": "C0ZB-U78HLu_"
      }
    },
    {
      "cell_type": "code",
      "source": [
        "with ruleset(\"field\"):\n",
        "  @when_all((m.code==\"cse\") & (m.cgpa>=8) & (m.btp=='y'))\n",
        "  def suggest_difficult_career(c):\n",
        "    c.assert_fact('preferences',{'type_': 'difficult'})\n",
        "\n",
        "  @when_all((m.code==\"cse\") & (m.cgpa>=9) & (m.published_papers=='y'))\n",
        "  def suggest_research_career(c):\n",
        "    c.assert_fact('preferences',{'type_': 'research'})\n",
        "\n",
        "  @when_all((m.code==\"cse\") & (m.area==\"ai\"))\n",
        "  def suggest_career(c):\n",
        "    c.assert_fact({'career': 'Software Engineer'})\n",
        "    c.assert_fact({'career': 'Web Developer'})\n",
        "    c.assert_fact('interest',{'area': \"ai\"})\n",
        "\n",
        "  @when_all((m.code==\"cse\") & (m.area==\"noai\"))\n",
        "  def suggest_career(c):\n",
        "    c.assert_fact({'career': 'Software Engineer'})\n",
        "    c.assert_fact({'career': 'Web Developer'})\n",
        "  \n",
        "  @when_all((m.code==\"maths\") & (m.area==\"eco\"))\n",
        "  def suggest_career(c):\n",
        "    c.assert_fact({'career': 'Statistical Researcher'})\n",
        "    c.assert_fact({'career': 'Mathematics Teacher'})\n",
        "    c.assert_fact('interest',{'area':'eco'})\n",
        "\n",
        "  @when_all((m.code==\"maths\") & (m.area==\"noeco\"))\n",
        "  def suggest_career(c):\n",
        "    c.assert_fact({'career': 'Statistical Researcher'})\n",
        "    c.assert_fact({'career': 'Mathematics Teacher'})\n",
        "\n",
        "  @when_all((m.code==\"design\") & (m.extra==\"startup\"))\n",
        "  def suggest_career(c):\n",
        "    c.assert_fact({'career': 'Product Designer'})\n",
        "    c.assert_fact({'career': 'Web Designer'})\n",
        "    c.assert_fact('extracurricular',{'extra': \"startup\"})\n",
        "\n",
        "  @when_all((m.code==\"design\") & (m.extra==\"sports\"))\n",
        "  def suggest_career(c):\n",
        "    c.assert_fact({'career': 'Product Designer'})\n",
        "    c.assert_fact({'career': 'Web Designer'})\n",
        "    c.assert_fact('extracurricular',{'extra': \"sports\"})\n",
        "\n",
        "  @when_all((m.code==\"design\") & (m.extra==\"none\"))\n",
        "  def suggest_career(c):\n",
        "    c.assert_fact({'career': 'Product Designer'})\n",
        "    c.assert_fact({'career': 'Web Designer'})\n",
        "  \n",
        "  @when_all((m.code==\"ssh\") & (m.extra==\"startup\"))\n",
        "  def suggest_career(c):\n",
        "    c.assert_fact({'career': 'Consultant'})\n",
        "    c.assert_fact('extracurricular',{'extra': \"startup\"})\n",
        "\n",
        "  @when_all((m.code==\"ssh\") & (m.extra==\"sports\"))\n",
        "  def suggest_career(c):\n",
        "    c.assert_fact({'career': 'Consultant'})\n",
        "    c.assert_fact('extracurricular',{'extra': \"sports\"})\n",
        "  \n",
        "  @when_all((m.code==\"ssh\") & (m.extra==\"none\"))\n",
        "  def suggest_career(c):\n",
        "    c.assert_fact({'career': 'Consultant'})\n",
        "    c.assert_fact('extracurricular',{'extra': \"sports\"})\n",
        "\n",
        "  @when_all(+m.career)\n",
        "  def output(c):\n",
        "    print('You can pursue a career as {0}'.format(c.m.career))"
      ],
      "metadata": {
        "id": "6Lr0yDwaxYwQ"
      },
      "execution_count": 7,
      "outputs": []
    },
    {
      "cell_type": "code",
      "source": [
        "with ruleset(\"extracurricular\"):\n",
        "  @when_all((m.extra==\"startup\"))\n",
        "  def suggest_startup_career(c):\n",
        "    c.assert_fact({'career': \"Enterpreneur\"})\n",
        "\n",
        "  @when_all((m.extra==\"sports\"))\n",
        "  def suggest_sports_career(c):\n",
        "    c.assert_fact({'career': \"Sportsperson\"})\n",
        "\n",
        "  @when_all(+m.career)\n",
        "  def output(c):\n",
        "    print('You can pursue a career as {0}'.format(c.m.career))"
      ],
      "metadata": {
        "id": "xrvCy_wDxYKY"
      },
      "execution_count": 8,
      "outputs": []
    },
    {
      "cell_type": "code",
      "source": [
        "with ruleset(\"interest\"):\n",
        "  @when_all((m.area==\"ai\"))\n",
        "  def suggest_ai_career(c):\n",
        "    c.assert_fact({'career':'Data Scientist'})\n",
        "    c.assert_fact({'career':'Machine Learning Engineer'})\n",
        "\n",
        "  @when_all((m.area==\"eco\"))\n",
        "  def suggest_eco_careers(c):\n",
        "    c.assert_fact({'career':'Financial Analyst'})\n",
        "\n",
        "  @when_all(+m.career)\n",
        "  def output(c):\n",
        "    print('You can pursue a career as {0}'.format(c.m.career))"
      ],
      "metadata": {
        "id": "f2p2_ePR0Tke"
      },
      "execution_count": 9,
      "outputs": []
    },
    {
      "cell_type": "code",
      "source": [
        "with ruleset(\"preferences\"):\n",
        "  @when_all(m.type_==\"difficult\")\n",
        "  def suggest_difficult_career_paths(c):\n",
        "    c.assert_fact({'career': 'DevOps Engineer'})\n",
        "    c.assert_fact({'career': 'Security Engineer'})\n",
        "\n",
        "  @when_all(m.type_=='research')\n",
        "  def suggest_research_career(c):\n",
        "    c.assert_fact({'career': 'Researcher'})\n",
        "\n",
        "  @when_all(+m.career)\n",
        "  def output(c):\n",
        "    print('You can pursue a career as {0}'.format(c.m.career))"
      ],
      "metadata": {
        "id": "7OmkY-8jZDRL"
      },
      "execution_count": 10,
      "outputs": []
    },
    {
      "cell_type": "markdown",
      "source": [
        "# Running the program"
      ],
      "metadata": {
        "id": "_i54Cn6ZHPRp"
      }
    },
    {
      "cell_type": "code",
      "source": [
        "run()"
      ],
      "metadata": {
        "colab": {
          "base_uri": "https://localhost:8080/"
        },
        "id": "5wkshGzJ7FZI",
        "outputId": "d9df2400-51d0-48ca-d255-4e7b6b53f29b"
      },
      "execution_count": 11,
      "outputs": [
        {
          "output_type": "stream",
          "name": "stdout",
          "text": [
            "Please enter the field you have done most courses in? (cse/maths/design/ssh) cse\n",
            "Please enter your cgpa: 9\n",
            "Are you pursuing a btp in cse? (y/n) y\n",
            "Have you published any papers in Computer Science and related fields? y\n",
            "Do you have interest in Data Science? (y/n) y\n",
            "\n",
            "--------------Career Options-----------------------\n",
            "You can pursue a career as Security Engineer\n",
            "You can pursue a career as DevOps Engineer\n",
            "You can pursue a career as Researcher\n",
            "You can pursue a career as Machine Learning Engineer\n",
            "You can pursue a career as Data Scientist\n",
            "You can pursue a career as Web Developer\n",
            "You can pursue a career as Software Engineer\n"
          ]
        }
      ]
    }
  ]
}